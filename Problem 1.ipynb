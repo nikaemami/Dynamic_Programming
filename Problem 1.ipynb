{
 "cells": [
  {
   "cell_type": "markdown",
   "metadata": {
    "id": "jCCQWSKJDNDh"
   },
   "source": [
    "# **Question 1:**"
   ]
  },
  {
   "cell_type": "markdown",
   "metadata": {
    "id": "xxAFzPaXD9as"
   },
   "source": [
    "First I define the factorial function (which is recursive itself) as below:"
   ]
  },
  {
   "cell_type": "code",
   "execution_count": 1,
   "metadata": {
    "id": "y9ZMzPoMDNL6"
   },
   "outputs": [],
   "source": [
    "def factorial(n):\n",
    "      if n == 0:\n",
    "        return 1\n",
    "      return n * factorial (n-1)"
   ]
  },
  {
   "cell_type": "markdown",
   "metadata": {
    "id": "V3G60KuXD-UJ"
   },
   "source": [
    "For modeling the algorithm as a dynamic programming model, the bottom up approach is to build a **memorization table** dp[i][j], where each cell is the solution to the 2x1 + 4x2 + 5x3 + 8x4 = i, using the first j variables x1, x2, ..., xj.\n",
    "\n",
    "The final results is in the cell [10][4].\n",
    "\n",
    "For making the codes more simple, I used **top-down** approach by making the algorithm **recursive** as below:"
   ]
  },
  {
   "cell_type": "code",
   "execution_count": 2,
   "metadata": {
    "id": "MvqCC4O-BHyl"
   },
   "outputs": [],
   "source": [
    "def solve_equation(coefficients,num_integers,summation, i, j):\n",
    "    if i == num_integers:\n",
    "        return factorial(num_integers)/(factorial(num_integers-j)*factorial(j))\n",
    "    \n",
    "    if j == summation:\n",
    "        return 0\n",
    "    result = 0\n",
    "    for k in range(num_integers//coefficients[j]+1):\n",
    "        result += solve_equation(coefficients, num_integers - k*coefficients[j], summation, i+1, j+1)\n",
    "    return result"
   ]
  },
  {
   "cell_type": "code",
   "execution_count": 3,
   "metadata": {
    "colab": {
     "base_uri": "https://localhost:8080/"
    },
    "id": "yKO1v9PhB9GW",
    "outputId": "1d63151d-4d67-4f2c-b25c-af33b0b55c71"
   },
   "outputs": [
    {
     "name": "stdout",
     "output_type": "stream",
     "text": [
      "results = 11.0\n"
     ]
    }
   ],
   "source": [
    "num_integers=10\n",
    "summation = 4\n",
    "coefficients = [2,4,5,8]\n",
    "final_sum = 0\n",
    "for i in range(num_integers+1):\n",
    "    final_sum += solve_equation(coefficients, num_integers, summation, 0, 0)\n",
    "print('results = ', final_sum)"
   ]
  },
  {
   "cell_type": "code",
   "execution_count": null,
   "metadata": {},
   "outputs": [],
   "source": []
  }
 ],
 "metadata": {
  "colab": {
   "provenance": []
  },
  "kernelspec": {
   "display_name": "Python 3",
   "language": "python",
   "name": "python3"
  },
  "language_info": {
   "codemirror_mode": {
    "name": "ipython",
    "version": 3
   },
   "file_extension": ".py",
   "mimetype": "text/x-python",
   "name": "python",
   "nbconvert_exporter": "python",
   "pygments_lexer": "ipython3",
   "version": "3.8.5"
  }
 },
 "nbformat": 4,
 "nbformat_minor": 1
}
