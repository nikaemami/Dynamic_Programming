{
  "nbformat": 4,
  "nbformat_minor": 0,
  "metadata": {
    "colab": {
      "provenance": []
    },
    "kernelspec": {
      "name": "python3",
      "display_name": "Python 3"
    },
    "language_info": {
      "name": "python"
    }
  },
  "cells": [
    {
      "cell_type": "markdown",
      "source": [
        "# **Question 2**"
      ],
      "metadata": {
        "id": "Z7pLgTDTAT31"
      }
    },
    {
      "cell_type": "markdown",
      "source": [
        "First, I model the given problem with a grid as below. As it can be seen, we have a 6x6 grid, where we have obstacles in the states with coordinates (2,1), (2,3), and (4,3) which are shown with number 1. "
      ],
      "metadata": {
        "id": "esMyA19lAbN0"
      }
    },
    {
      "cell_type": "code",
      "source": [
        "Grid = [[0, 0, 0, 0, 0, 0],\n",
        "        [0, 0, 0, 0, 0, 0],\n",
        "        [0, 1, 0, 1, 0, 0],\n",
        "        [0, 0, 0, 0, 0, 0],\n",
        "        [0, 0, 0, 1, 0, 0],\n",
        "        [0, 0, 0, 0, 0, 0]]"
      ],
      "metadata": {
        "id": "qz-diOeCAyjD"
      },
      "execution_count": 28,
      "outputs": []
    },
    {
      "cell_type": "markdown",
      "source": [
        "I used a top-down approach for implementing the Dynamic Programming algorithm. As it can be seen, the model is implemented by using recursion, since the num of ways to reach cell (i,j) is the sum of the number of ways to reach cells (i-1,j), (i,j-1) and (i-1, j-1).\n",
        "\n",
        "The algorithm checks when we reach the maximum row or column, and therefore can't move any further, and when we reach the objective cell.\n",
        "\n",
        "The only important thing is to notice if any of the cells are obstacles, and limit our movements."
      ],
      "metadata": {
        "id": "aIbbrKtSBRWt"
      }
    },
    {
      "cell_type": "code",
      "source": [
        "def UniquePaths(i, j, num_rows, num_columns, Grid, paths):\n",
        "    if (i == num_rows or j == num_columns):\n",
        "        return 0\n",
        "\n",
        "    if (Grid[i][j] == 1):\n",
        "        return 0\n",
        "        \n",
        "    if (i == num_rows - 1 and j == num_columns - 1):\n",
        "        return 1\n",
        " \n",
        "    if (paths[i][j] != -1):\n",
        "        return paths[i][j]\n",
        " \n",
        "    paths[i][j] = UniquePaths(i + 1, j, num_rows, num_columns, Grid, paths) + UniquePaths(i, j + 1, num_rows, num_columns, Grid, paths) + UniquePaths(i + 1, j + 1, num_rows, num_columns, Grid, paths)\n",
        "\n",
        "    return paths[i][j]"
      ],
      "metadata": {
        "id": "rF32vzJYAUP8"
      },
      "execution_count": 27,
      "outputs": []
    },
    {
      "cell_type": "markdown",
      "source": [
        "Initializing the paths array, and number of rows and columns, and running the recursive function above:"
      ],
      "metadata": {
        "id": "o-D4aIS9DaD8"
      }
    },
    {
      "cell_type": "code",
      "source": [
        "def Find_Paths(Grid):\n",
        "    num_rows, num_columns = len(Grid), len(Grid[0])\n",
        "    paths = [[-1 for i in range(num_columns)]for j in range(num_rows)]\n",
        "    return UniquePaths(0, 0, num_rows, num_columns, Grid, paths)"
      ],
      "metadata": {
        "id": "BLtwVyKDtPY9"
      },
      "execution_count": 29,
      "outputs": []
    },
    {
      "cell_type": "code",
      "source": [
        "print('Number of ways to reach state B, starting from state A = ',Find_Paths(Grid))"
      ],
      "metadata": {
        "colab": {
          "base_uri": "https://localhost:8080/"
        },
        "id": "--b013k8ui2u",
        "outputId": "ca42efd5-a4ff-4aa0-8b62-0c908d00764f"
      },
      "execution_count": 30,
      "outputs": [
        {
          "output_type": "stream",
          "name": "stdout",
          "text": [
            "Number of ways to reach state B, starting from state A =  318\n"
          ]
        }
      ]
    }
  ]
}